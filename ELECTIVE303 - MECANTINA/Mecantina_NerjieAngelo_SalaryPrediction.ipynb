{
 "cells": [
  {
   "cell_type": "markdown",
   "metadata": {},
   "source": [
    "# 📊 Assignment: Predicting 2024 Data Science Salaries Using Linear Regression\n",
    "\n",
    "**Course**: Data Analytics with Python  \n",
    "**Instructor**: Leonard Andrew Mesiera  \n",
    "**Due Date**: October 22, 2025\n",
    "\n",
    "## 🎯 Learning Objectives\n",
    "By the end of this assignment, you will be able to:\n",
    "- Load and explore a real-world dataset\n",
    "- Prepare data for linear regression (feature engineering, encoding, cleaning)\n",
    "- Train a simple linear regression model using `scikit-learn`\n",
    "- Evaluate your model using metrics like R² and interpret results\n",
    "- Make predictions for future years (e.g., 2024)\n",
    "\n",
    "## 📁 Dataset\n",
    "You are given the file: `Data Science Salary 2021 to 2023.csv`\n",
    "\n",
    "This dataset contains salary information for data professionals from 2021 to 2023, including:\n",
    "- `work_year`: The year the salary was recorded\n",
    "- `experience_level`: EN (Entry), MI (Mid), SE (Senior), EX (Executive)\n",
    "- `job_title`: e.g., Data Scientist, Data Analyst, etc.\n",
    "- `salary_in_usd`: Salary converted to USD (this is your target variable)\n",
    "- Other useful columns: `employment_type`, `company_location`, `company_size`\n",
    "\n",
    "Your goal: **Predict average salaries for 2024** using linear regression."
   ]
  },
  {
   "cell_type": "markdown",
   "metadata": {},
   "source": [
    "## 🛠️ Part 1: Setup and Data Loading"
   ]
  },
  {
   "cell_type": "code",
   "execution_count": 1,
   "metadata": {},
   "outputs": [
    {
     "data": {
      "text/html": [
       "<div>\n",
       "<style scoped>\n",
       "    .dataframe tbody tr th:only-of-type {\n",
       "        vertical-align: middle;\n",
       "    }\n",
       "\n",
       "    .dataframe tbody tr th {\n",
       "        vertical-align: top;\n",
       "    }\n",
       "\n",
       "    .dataframe thead th {\n",
       "        text-align: right;\n",
       "    }\n",
       "</style>\n",
       "<table border=\"1\" class=\"dataframe\">\n",
       "  <thead>\n",
       "    <tr style=\"text-align: right;\">\n",
       "      <th></th>\n",
       "      <th>work_year</th>\n",
       "      <th>experience_level</th>\n",
       "      <th>employment_type</th>\n",
       "      <th>job_title</th>\n",
       "      <th>salary</th>\n",
       "      <th>salary_currency</th>\n",
       "      <th>salary_in_usd</th>\n",
       "      <th>company_location</th>\n",
       "      <th>company_size</th>\n",
       "    </tr>\n",
       "  </thead>\n",
       "  <tbody>\n",
       "    <tr>\n",
       "      <th>0</th>\n",
       "      <td>2023</td>\n",
       "      <td>EN</td>\n",
       "      <td>FT</td>\n",
       "      <td>Applied Scientist</td>\n",
       "      <td>213660</td>\n",
       "      <td>USD</td>\n",
       "      <td>213660</td>\n",
       "      <td>US</td>\n",
       "      <td>L</td>\n",
       "    </tr>\n",
       "    <tr>\n",
       "      <th>1</th>\n",
       "      <td>2023</td>\n",
       "      <td>EN</td>\n",
       "      <td>FT</td>\n",
       "      <td>Applied Scientist</td>\n",
       "      <td>130760</td>\n",
       "      <td>USD</td>\n",
       "      <td>130760</td>\n",
       "      <td>US</td>\n",
       "      <td>L</td>\n",
       "    </tr>\n",
       "    <tr>\n",
       "      <th>2</th>\n",
       "      <td>2023</td>\n",
       "      <td>EN</td>\n",
       "      <td>FT</td>\n",
       "      <td>Data Quality Analyst</td>\n",
       "      <td>100000</td>\n",
       "      <td>USD</td>\n",
       "      <td>100000</td>\n",
       "      <td>NG</td>\n",
       "      <td>L</td>\n",
       "    </tr>\n",
       "    <tr>\n",
       "      <th>3</th>\n",
       "      <td>2023</td>\n",
       "      <td>EN</td>\n",
       "      <td>FT</td>\n",
       "      <td>Compliance Data Analyst</td>\n",
       "      <td>30000</td>\n",
       "      <td>USD</td>\n",
       "      <td>30000</td>\n",
       "      <td>NG</td>\n",
       "      <td>L</td>\n",
       "    </tr>\n",
       "    <tr>\n",
       "      <th>4</th>\n",
       "      <td>2023</td>\n",
       "      <td>EN</td>\n",
       "      <td>FT</td>\n",
       "      <td>Applied Scientist</td>\n",
       "      <td>204620</td>\n",
       "      <td>USD</td>\n",
       "      <td>204620</td>\n",
       "      <td>US</td>\n",
       "      <td>L</td>\n",
       "    </tr>\n",
       "  </tbody>\n",
       "</table>\n",
       "</div>"
      ],
      "text/plain": [
       "   work_year experience_level employment_type                job_title  \\\n",
       "0       2023               EN              FT        Applied Scientist   \n",
       "1       2023               EN              FT        Applied Scientist   \n",
       "2       2023               EN              FT     Data Quality Analyst   \n",
       "3       2023               EN              FT  Compliance Data Analyst   \n",
       "4       2023               EN              FT        Applied Scientist   \n",
       "\n",
       "   salary salary_currency  salary_in_usd company_location company_size  \n",
       "0  213660             USD         213660               US            L  \n",
       "1  130760             USD         130760               US            L  \n",
       "2  100000             USD         100000               NG            L  \n",
       "3   30000             USD          30000               NG            L  \n",
       "4  204620             USD         204620               US            L  "
      ]
     },
     "execution_count": 1,
     "metadata": {},
     "output_type": "execute_result"
    }
   ],
   "source": [
    "# Import necessary libraries\n",
    "import pandas as pd\n",
    "import numpy as np\n",
    "import matplotlib.pyplot as plt\n",
    "import seaborn as sns\n",
    "import warnings\n",
    "from sklearn.model_selection import train_test_split\n",
    "from sklearn.linear_model import LinearRegression\n",
    "from sklearn.metrics import r2_score, mean_squared_error\n",
    "from sklearn.preprocessing import LabelEncoder\n",
    "warnings.filterwarnings('ignore')\n",
    "\n",
    "# Load the dataset\n",
    "df = pd.read_csv('Data Science Salary 2021 to 2023.csv')\n",
    "\n",
    "# Display first few rows\n",
    "df.head()"
   ]
  },
  {
   "cell_type": "code",
   "execution_count": 2,
   "metadata": {},
   "outputs": [
    {
     "name": "stdout",
     "output_type": "stream",
     "text": [
      "<class 'pandas.core.frame.DataFrame'>\n",
      "RangeIndex: 3761 entries, 0 to 3760\n",
      "Data columns (total 9 columns):\n",
      " #   Column            Non-Null Count  Dtype \n",
      "---  ------            --------------  ----- \n",
      " 0   work_year         3761 non-null   int64 \n",
      " 1   experience_level  3761 non-null   object\n",
      " 2   employment_type   3761 non-null   object\n",
      " 3   job_title         3761 non-null   object\n",
      " 4   salary            3761 non-null   int64 \n",
      " 5   salary_currency   3761 non-null   object\n",
      " 6   salary_in_usd     3761 non-null   int64 \n",
      " 7   company_location  3761 non-null   object\n",
      " 8   company_size      3761 non-null   object\n",
      "dtypes: int64(3), object(6)\n",
      "memory usage: 264.6+ KB\n"
     ]
    }
   ],
   "source": [
    "# Check basic info\n",
    "df.info()"
   ]
  },
  {
   "cell_type": "markdown",
   "metadata": {},
   "source": [
    "## 🔍 Part 2: Exploratory Data Analysis (EDA)\n",
    "\n",
    "Answer the following in markdown cells below (or as code comments):\n",
    "\n",
    "1. How many unique job titles are there?\n",
    "2. What is the average salary (`salary_in_usd`) per `work_year`?\n",
    "3. Create a bar plot showing average salary by `experience_level`.\n",
    "\n",
    "> 💡 Tip: Use `groupby()` and `mean()`."
   ]
  },
  {
   "cell_type": "code",
   "execution_count": 3,
   "metadata": {},
   "outputs": [
    {
     "name": "stdout",
     "output_type": "stream",
     "text": [
      "1. Unique Job Titles: 93\n",
      "\n",
      "2. Average Salary per Work Year:\n",
      "work_year\n",
      "2020     92302.63\n",
      "2021     94087.21\n",
      "2022    133379.51\n",
      "2023    148954.56\n",
      "Name: salary_in_usd, dtype: float64\n",
      "\n",
      "3. bar plot of average salary by experience level\n"
     ]
    },
    {
     "data": {
      "image/png": "[encoded data removed]",
      "text/plain": [
       "<Figure size 1200x800 with 1 Axes>"
      ]
     },
     "metadata": {},
     "output_type": "display_data"
    }
   ],
   "source": [
    "# Your EDA code here\n",
    "\n",
    "#1. How many unique job titles are there?\n",
    "\n",
    "unique_job_titles = df['job_title'].nunique()\n",
    "print(f\"1. Unique Job Titles: {unique_job_titles}\")\n",
    "\n",
    "#2. What is the average salary (`salary_in_usd`) per `work_year`?\n",
    "\n",
    "average_salary_per_year = df.groupby('work_year')['salary_in_usd'].mean().round(2)\n",
    "print(\"\\n2. Average Salary per Work Year:\")\n",
    "print(average_salary_per_year)\n",
    "\n",
    "#3.Create a bar plot showing average salary by `experience_level`.\n",
    "print(\"\\n3. bar plot of average salary by experience level\")\n",
    "experience_order = ['EN', 'MI', 'SE', 'EX']\n",
    "sns.barplot(x='experience_level', y='salary_in_usd', data=df, order=experience_order, estimator=np.mean, palette='Set2')\n",
    "plt.title('Average Salary by Experience Level')\n",
    "plt.xlabel('Experience Level (EN, MI, SE, EX)')\n",
    "plt.ylabel('Average Salary (USD)')\n",
    "plt.tight_layout()\n",
    "plt.gcf().set_size_inches(12,8)\n",
    "plt.show()"
   ]
  },
  {
   "cell_type": "markdown",
   "metadata": {},
   "source": [
    "## 🧹 Part 3: Data Preprocessing for Linear Regression\n",
    "\n",
    "We will predict `salary_in_usd` using **only numerical or encoded categorical features**.\n",
    "\n",
    "### Steps:\n",
    "1. Select features: `work_year`, `experience_level`, and optionally `job_title` (you decide!)\n",
    "2. Encode categorical variables (`experience_level`) using `LabelEncoder` or `pd.get_dummies()`\n",
    "3. Define `X` (features) and `y` (target = `salary_in_usd`)\n",
    "\n",
    "> ⚠️ **Important**: Do NOT include `salary`, `salary_currency`, or `salary_in_usd` in your features!"
   ]
  },
  {
   "cell_type": "code",
   "execution_count": 4,
   "metadata": {},
   "outputs": [
    {
     "data": {
      "text/html": [
       "<div>\n",
       "<style scoped>\n",
       "    .dataframe tbody tr th:only-of-type {\n",
       "        vertical-align: middle;\n",
       "    }\n",
       "\n",
       "    .dataframe tbody tr th {\n",
       "        vertical-align: top;\n",
       "    }\n",
       "\n",
       "    .dataframe thead th {\n",
       "        text-align: right;\n",
       "    }\n",
       "</style>\n",
       "<table border=\"1\" class=\"dataframe\">\n",
       "  <thead>\n",
       "    <tr style=\"text-align: right;\">\n",
       "      <th></th>\n",
       "      <th>work_year</th>\n",
       "      <th>experience_level_encoded</th>\n",
       "      <th>employment_type_encoded</th>\n",
       "    </tr>\n",
       "  </thead>\n",
       "  <tbody>\n",
       "    <tr>\n",
       "      <th>0</th>\n",
       "      <td>2023</td>\n",
       "      <td>0</td>\n",
       "      <td>2</td>\n",
       "    </tr>\n",
       "    <tr>\n",
       "      <th>1</th>\n",
       "      <td>2023</td>\n",
       "      <td>0</td>\n",
       "      <td>2</td>\n",
       "    </tr>\n",
       "    <tr>\n",
       "      <th>2</th>\n",
       "      <td>2023</td>\n",
       "      <td>0</td>\n",
       "      <td>2</td>\n",
       "    </tr>\n",
       "    <tr>\n",
       "      <th>3</th>\n",
       "      <td>2023</td>\n",
       "      <td>0</td>\n",
       "      <td>2</td>\n",
       "    </tr>\n",
       "    <tr>\n",
       "      <th>4</th>\n",
       "      <td>2023</td>\n",
       "      <td>0</td>\n",
       "      <td>2</td>\n",
       "    </tr>\n",
       "  </tbody>\n",
       "</table>\n",
       "</div>"
      ],
      "text/plain": [
       "   work_year  experience_level_encoded  employment_type_encoded\n",
       "0       2023                         0                        2\n",
       "1       2023                         0                        2\n",
       "2       2023                         0                        2\n",
       "3       2023                         0                        2\n",
       "4       2023                         0                        2"
      ]
     },
     "execution_count": 4,
     "metadata": {},
     "output_type": "execute_result"
    }
   ],
   "source": [
    "# Example: Encode experience_level\n",
    "le = LabelEncoder()\n",
    "df['experience_level_encoded'] = le.fit_transform(df['experience_level'])\n",
    "df['employment_type_encoded'] = le.fit_transform(df['employment_type'])\n",
    "\n",
    "# Choose your features\n",
    "features = ['work_year', 'experience_level_encoded', 'employment_type_encoded']\n",
    "X = df[features]\n",
    "y = df['salary_in_usd']\n",
    "\n",
    "# Optional: Add more features like job_title (try it!)\n",
    "# But remember: too many categories can hurt performance\n",
    "\n",
    "X.head()"
   ]
  },
  {
   "cell_type": "markdown",
   "metadata": {},
   "source": [
    "## 📈 Part 4: Train a Linear Regression Model"
   ]
  },
  {
   "cell_type": "code",
   "execution_count": 5,
   "metadata": {},
   "outputs": [
    {
     "name": "stdout",
     "output_type": "stream",
     "text": [
      "R² Score: 0.15\n",
      "RMSE: 59307.37\n"
     ]
    }
   ],
   "source": [
    "# Split data into train and test sets (80/20)\n",
    "X_train, X_test, y_train, y_test = train_test_split(X, y, test_size=0.2, random_state=42)\n",
    "\n",
    "# Create and train the model\n",
    "model = LinearRegression()\n",
    "model.fit(X_train, y_train)\n",
    "\n",
    "# Make predictions\n",
    "y_pred = model.predict(X_test)\n",
    "\n",
    "# Evaluate\n",
    "print(f\"R² Score: {r2_score(y_test, y_pred):.2f}\")\n",
    "print(f\"RMSE: {np.sqrt(mean_squared_error(y_test, y_pred)):.2f}\")"
   ]
  },
  {
   "cell_type": "markdown",
   "metadata": {},
   "source": [
    "## 🔮 Part 5: Predict 2024 Salaries\n",
    "\n",
    "Now, create a small DataFrame for **2024** with different experience levels and predict their salaries.\n",
    "\n",
    "Use the same encoding as before!"
   ]
  },
  {
   "cell_type": "code",
   "execution_count": 7,
   "metadata": {},
   "outputs": [
    {
     "data": {
      "text/html": [
       "<div>\n",
       "<style scoped>\n",
       "    .dataframe tbody tr th:only-of-type {\n",
       "        vertical-align: middle;\n",
       "    }\n",
       "\n",
       "    .dataframe tbody tr th {\n",
       "        vertical-align: top;\n",
       "    }\n",
       "\n",
       "    .dataframe thead th {\n",
       "        text-align: right;\n",
       "    }\n",
       "</style>\n",
       "<table border=\"1\" class=\"dataframe\">\n",
       "  <thead>\n",
       "    <tr style=\"text-align: right;\">\n",
       "      <th></th>\n",
       "      <th>Experience Level</th>\n",
       "      <th>Predicted 2024 Salary (USD)</th>\n",
       "    </tr>\n",
       "  </thead>\n",
       "  <tbody>\n",
       "    <tr>\n",
       "      <th>0</th>\n",
       "      <td>Entry</td>\n",
       "      <td>111929.354429</td>\n",
       "    </tr>\n",
       "    <tr>\n",
       "      <th>1</th>\n",
       "      <td>Mid</td>\n",
       "      <td>132146.383600</td>\n",
       "    </tr>\n",
       "    <tr>\n",
       "      <th>2</th>\n",
       "      <td>Senior</td>\n",
       "      <td>152363.412771</td>\n",
       "    </tr>\n",
       "    <tr>\n",
       "      <th>3</th>\n",
       "      <td>Executive</td>\n",
       "      <td>172580.441942</td>\n",
       "    </tr>\n",
       "  </tbody>\n",
       "</table>\n",
       "</div>"
      ],
      "text/plain": [
       "  Experience Level  Predicted 2024 Salary (USD)\n",
       "0            Entry                111929.354429\n",
       "1              Mid                132146.383600\n",
       "2           Senior                152363.412771\n",
       "3        Executive                172580.441942"
      ]
     },
     "execution_count": 7,
     "metadata": {},
     "output_type": "execute_result"
    }
   ],
   "source": [
    "# Map experience levels to encoded values (check your LabelEncoder!)\n",
    "# Example: EN=0, MI=1, SE=2, EX=3 (confirm with `le.classes_`)\n",
    "\n",
    "future_data = pd.DataFrame({\n",
    "    'work_year': [2024, 2024, 2024, 2024],\n",
    "    'experience_level_encoded': [0, 1, 2, 3],  # EN, MI, SE, EX\n",
    "    'employment_type_encoded' : [2, 2, 2, 2]\n",
    "})\n",
    "\n",
    "# Predict\n",
    "predicted_salaries = model.predict(future_data)\n",
    "\n",
    "# Display results\n",
    "results = pd.DataFrame({\n",
    "    'Experience Level': ['Entry', 'Mid', 'Senior', 'Executive'],\n",
    "    'Predicted 2024 Salary (USD)': predicted_salaries\n",
    "})\n",
    "results"
   ]
  },
  {
   "cell_type": "markdown",
   "metadata": {},
   "source": [
    "## 📝 Part 6: Reflection (Answer in a Markdown Cell)\n",
    "\n",
    "1. Does your model make reasonable predictions? Why or why not?\n",
    "2. What are the limitations of using only `work_year` and `experience_level`?\n",
    "3. How could you improve this model? (Think: more features, better encoding, etc.)\n",
    "4. Why is **R² not enough** to trust your predictions?\n",
    "\n",
    "> 💡 Remember: Linear regression assumes a **linear trend**—but real salaries may grow non-linearly!"
   ]
  },
  {
   "cell_type": "markdown",
   "metadata": {},
   "source": [
    "## Reflection\n",
    "\n",
    "1. Does your model make reasonable predictions? Why or why not?\n",
    "    # Answer: I think the model makes somewhat reasonable predictions since it captures the general trend that salaries increase with higher experience levels and later years but it’s limited because it only uses two features `work_year` and `experience_level`. It not fully represent the real factors affecting salary.\n",
    "\n",
    "   <hr>\n",
    "\n",
    "2. What are the limitations of using only work_year and experience_level?\n",
    "    # Answer: The limitation that i see using only `work_year` and `experience_level` is that it ignore other important factors such as job title, company size, location, and employment type which is for me strongly influece salaries.\n",
    "\n",
    "   <hr>\n",
    "\n",
    "\n",
    "3. How could you improve this model? (Think: more features, better encoding, etc.)\n",
    "    # Answer: Hmmm maybe by including more relevant features like `job_title`, `company_size`, and `company_location`. Encoding categorical variables using `OneHotEncoder` instead of simple label encoding maybe could also help.\n",
    "\n",
    "   <hr>\n",
    "\n",
    "\n",
    "4. Why is **R² not enough** to trust your predictions?\n",
    "    # Answer: Maybe because R² score only measures how well the model fits the training data? and it also doesn’t guarantee good predictions for unseen data. Other metrics like `RMSE` or `cross-validation scores` that i fould while searching in the internet should also be considered to ensure the model performs reliably on new data."
   ]
  },
  {
   "cell_type": "markdown",
   "metadata": {},
   "source": [
    "## 📤 Submission Instructions\n",
    "\n",
    "- Save this notebook as: `LastName_FirstName_SalaryPrediction.ipynb`\n",
    "- Ensure all code runs without errors\n",
    "- Include your answers to the reflection questions\n",
    "- Submit via [your LMS/email/etc.]\n",
    "\n",
    "Good luck! 🚀"
   ]
  },
  {
   "cell_type": "code",
   "execution_count": null,
   "metadata": {},
   "outputs": [],
   "source": []
  }
 ],
 "metadata": {
  "kernelspec": {
   "display_name": "Python 3 (ipykernel)",
   "language": "python",
   "name": "python3"
  },
  "language_info": {
   "codemirror_mode": {
    "name": "ipython",
    "version": 3
   },
   "file_extension": ".py",
   "mimetype": "text/x-python",
   "name": "python",
   "nbconvert_exporter": "python",
   "pygments_lexer": "ipython3",
   "version": "3.13.7"
  }
 },
 "nbformat": 4,
 "nbformat_minor": 4
}
